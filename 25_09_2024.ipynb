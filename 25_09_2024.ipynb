{
  "nbformat": 4,
  "nbformat_minor": 0,
  "metadata": {
    "colab": {
      "provenance": [],
      "authorship_tag": "ABX9TyNLXB3WEg8Tp1Fj9P4iWyFY",
      "include_colab_link": true
    },
    "kernelspec": {
      "name": "python3",
      "display_name": "Python 3"
    },
    "language_info": {
      "name": "python"
    }
  },
  "cells": [
    {
      "cell_type": "markdown",
      "metadata": {
        "id": "view-in-github",
        "colab_type": "text"
      },
      "source": [
        "<a href=\"https://colab.research.google.com/github/Patriciogtr/LP_Profmasaki/blob/main/25_09_2024.ipynb\" target=\"_parent\"><img src=\"https://colab.research.google.com/assets/colab-badge.svg\" alt=\"Open In Colab\"/></a>"
      ]
    },
    {
      "cell_type": "code",
      "execution_count": 2,
      "metadata": {
        "colab": {
          "base_uri": "https://localhost:8080/"
        },
        "id": "7XccsqbsS1Pu",
        "outputId": "4a11b75b-1c51-49f5-9eaa-30fee65aa726"
      },
      "outputs": [
        {
          "output_type": "stream",
          "name": "stdout",
          "text": [
            "0\n",
            "1\n",
            "2\n",
            "3\n",
            "4\n",
            "5\n",
            "6\n",
            "7\n",
            "8\n",
            "9\n"
          ]
        }
      ],
      "source": [
        "#Contar usando\n",
        "\n",
        "for i in range(10):\n",
        "    print(i)\n"
      ]
    },
    {
      "cell_type": "code",
      "source": [],
      "metadata": {
        "id": "TbAugi7GbwAS"
      },
      "execution_count": null,
      "outputs": []
    },
    {
      "cell_type": "code",
      "source": [
        "# prompt: Elaborar um programa em python que solicite ao\n",
        "# usuário um valor inteiro e em seguida informe ao usuário se o valor é múltiplo de 3 ou não.\n",
        "# A seguir o pseudocódigo referente ao algoritmo do programa\n",
        "\n",
        "numero = int(input(\"Digite um número inteiro: \"))\n",
        "\n",
        "if numero % 3 == 0:\n",
        "  print(f\"O número {numero} é múltiplo de 3.\")\n",
        "else:\n",
        "  print(f\"O número {numero} não é múltiplo de 3.\")\n"
      ],
      "metadata": {
        "colab": {
          "base_uri": "https://localhost:8080/"
        },
        "id": "1AqjWsIdbRcV",
        "outputId": "75df8524-7778-46d1-f202-ccf49ed2b6aa"
      },
      "execution_count": 7,
      "outputs": [
        {
          "output_type": "stream",
          "name": "stdout",
          "text": [
            "Digite um número inteiro: 36\n",
            "O número 36 é múltiplo de 3.\n"
          ]
        }
      ]
    },
    {
      "cell_type": "code",
      "source": [
        "#Dado o algoritmo a seguir, elabore o código pyton do programa em questão:\n",
        "\n",
        "a = int(input(\"Digite o valor de a: \"))\n",
        "b = int(input(\"Digite o valor de b: \"))\n",
        "c = int(input(\"Digite o valor de c: \"))\n",
        "\n",
        "if a > b:\n",
        "  if a > c:\n",
        "    maior = a\n",
        "  else:\n",
        "    maior = c\n",
        "else:\n",
        "  if b > c:\n",
        "    maior = b\n",
        "  else:\n",
        "    maior = c\n",
        "print(f\"O menor número é {maior}.\")\n",
        "\n",
        ""
      ],
      "metadata": {
        "colab": {
          "base_uri": "https://localhost:8080/"
        },
        "id": "-ZcqFToabxjS",
        "outputId": "66b8038f-2afc-445a-eb3b-a70ea7a1ade7"
      },
      "execution_count": 14,
      "outputs": [
        {
          "output_type": "stream",
          "name": "stdout",
          "text": [
            "Digite o valor de a: 15\n",
            "Digite o valor de b: 5\n",
            "Digite o valor de c: 25\n",
            "O menor número é 25.\n"
          ]
        }
      ]
    },
    {
      "cell_type": "code",
      "source": [
        "# prompt: leia os três valores a,b,c compare os valores  se a, é menor ou igual a, b, c e a, é menor ou igual a e c, então b é menor valor caso contrario c é o menor valor exiba o menor valor\n",
        "\n",
        "a = int(input(\"Digite o valor de a: \"))\n",
        "b = int(input(\"Digite o valor de b: \"))\n",
        "c = int(input(\"Digite o valor de c: \"))\n",
        "\n",
        "if a <= b and a <= c:\n",
        "  menor = a\n",
        "elif b <= a and b <= c:\n",
        "  menor = b\n",
        "else:\n",
        "  menor = c\n",
        "\n",
        "print(f\"O menor valor é: {menor}\")\n"
      ],
      "metadata": {
        "colab": {
          "base_uri": "https://localhost:8080/"
        },
        "id": "ANuWjMykiWMW",
        "outputId": "cbc1f2dc-16f1-4131-fbbb-57ae1e84697e"
      },
      "execution_count": 15,
      "outputs": [
        {
          "output_type": "stream",
          "name": "stdout",
          "text": [
            "Digite o valor de a: 10\n",
            "Digite o valor de b: 15\n",
            "Digite o valor de c: 16\n",
            "O menor valor é: 10\n"
          ]
        }
      ]
    }
  ]
}