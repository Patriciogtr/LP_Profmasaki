{
  "nbformat": 4,
  "nbformat_minor": 0,
  "metadata": {
    "colab": {
      "provenance": [],
      "authorship_tag": "ABX9TyMqAcUUiWYjhTCx2OE7pKKy",
      "include_colab_link": true
    },
    "kernelspec": {
      "name": "python3",
      "display_name": "Python 3"
    },
    "language_info": {
      "name": "python"
    }
  },
  "cells": [
    {
      "cell_type": "markdown",
      "metadata": {
        "id": "view-in-github",
        "colab_type": "text"
      },
      "source": [
        "<a href=\"https://colab.research.google.com/github/Patriciogtr/LP_Profmasaki/blob/main/Trabalho_Massaki_ok.ipynb\" target=\"_parent\"><img src=\"https://colab.research.google.com/assets/colab-badge.svg\" alt=\"Open In Colab\"/></a>"
      ]
    },
    {
      "cell_type": "code",
      "source": [
        "# Processo 01 (RECEBIMENTO)\n",
        "def registrar_processo():\n",
        "\n",
        "    dados = {\n",
        "        \"Recebimento de Material\": input(\"Recebimento de Material: \"),\n",
        "        \"Quantidade\": input(\"Quantidade: \"),\n",
        "        \"Tipo de Material\": input(\"Material Recebido: \"),\n",
        "        \"Posição\": input(\"Posição (Aprovado/Reprovado): \"),\n",
        "        \"Data Recebimento\": input(\"Data: \"),\n",
        "        \"Hora Recebimento\": input(\"Hora: \"),\n",
        "        \"Inspetor\": input(\"Liberado por: \"),\n",
        "# Processo 02 (ESTOQUE)\n",
        "        \"Estoque de Materiais\": input(\"Estoque de Materiais: \"),\n",
        "        \"Quantidade\": input(\"Quantidade: \"),\n",
        "        \"Tipo de Material\": input(\"Material Estocado: \"),\n",
        "        \"Porta Paletes\": input(\"Porta Paletes: \"),\n",
        "        \"Data Estoque\": input(\"Data da Entrada: \"),\n",
        "        \"Hora Estoque\": input(\"Hora da Saída: \"),\n",
        "        \"Almoxarife\": input(\"Almoxarife: \"),\n",
        "# Processo 03 (PRODUÇÃO)\n",
        "        \"Setor\": input(\"Produção: \"),\n",
        "        \"Máquina\": input(\"Máquina: \"),\n",
        "        \"Data Início\": input(\"Início de Produção (DD/MM/AAAA): \"),\n",
        "        \"Hora Início\": input(\"Início de Produção (HH:MM): \"),\n",
        "        \"Data finalizada\": input(\"Final de Produção (DD/MM/AAAA): \"),\n",
        "\n",
        "        \"Hora Finalizada\": input(\"Hora Finalizada (HH:MM): \"),\n",
        "        \"Quantidade\": input(\"Quantidade: \"),\n",
        "        \"Nome do Ferramenteiro\": input(\"Ferramenteiro: \"),\n",
        "# Processo 04 (Montagem)\n",
        "        \"Montagem\": input(\"Área de Montagem: \"),\n",
        "        \"Data Início\": input(\"Início de Montagem (DD/MM/AAAA): \"),\n",
        "        \"Hora Início\": input(\"Início de Montagem (HH:MM): \"),\n",
        "        \"Quantidade\": input(\"Quantidade: \"),\n",
        "        \"Nome do Montador\": input(\"Montador: \"),\n",
        "# Processo 05 (Inspeção)\n",
        "        \"Inspeção do Produto\": input(\"Inspeção do Produto: \"),\n",
        "        \"Data Início\": input(\"Início da Inspeção (DD/MM/AAAA): \"),\n",
        "        \"Hora Início\": input(\"Início da Inspeção (HH:MM): \"),\n",
        "        \"Quantidade\": input(\"Quantidade: \"),\n",
        "        \"Prateleira\": input(\"Prateleira: \"),\n",
        "        \"Posição\": input(\"Posição (Aprovado/Reprovado): \"),\n",
        "        \"Emissão de Certificado\": input(\"Emissão de Certificado: \"),\n",
        "        \"Nome do Inspetor\": input(\"Inspetor: \"),\n",
        "# Processo 06 (Expedição)\n",
        "        \"Expedição\": input(\"Expedição: \"),\n",
        "        \"Quantidade\": input(\"Quantidade: \"),\n",
        "        \"Pedido\": input(\"Numero do Pedido): \"),\n",
        "        \"Emissão de Nota Fiscal\": input(\"Nota Fiscal do Pedido: \"),\n",
        "        \"Data Saída do Pedido\": input(\"Saída do Pedido (DD/MM/AAAA): \"),\n",
        "        \"Hora Saída do Pedido\": input(\"Saída do Pedido (HH:MM): \"),\n",
        "        \"Nome do Expeditor\": input(\"Expeditor: \"),\n",
        "    }\n",
        "# Menu principal\n",
        "def menu():\n",
        "    while True:\n",
        "        print(\"\\n--- SISTEMA DE GERENCIAMENTO DE PROCESSOS ---\")\n",
        "        print(\"1. Registrar novo processo\")\n",
        "        opcao = input(\"Escolha uma opção: \")\n",
        "\n",
        "        if opcao == \"1\":\n",
        "            registrar_processo()\n",
        "\n",
        "# Iniciar o sistema\n",
        "menu()\n"
      ],
      "metadata": {
        "colab": {
          "base_uri": "https://localhost:8080/",
          "height": 1000
        },
        "id": "4mY6DrSA1z5j",
        "outputId": "f532bd11-e1cf-42e6-d125-5215b3e5550d"
      },
      "execution_count": 28,
      "outputs": [
        {
          "output_type": "stream",
          "name": "stdout",
          "text": [
            "\n",
            "--- SISTEMA DE GERENCIAMENTO DE PROCESSOS ---\n",
            "1. Registrar novo processo\n",
            "Escolha uma opção: 1\n",
            "Recebimento de Material: \n",
            "Quantidade: \n",
            "Material Recebido: \n",
            "Posição (Aprovado/Reprovado): \n",
            "Data: \n",
            "Hora: \n",
            "Liberado por: \n",
            "Estoque de Materiais: \n",
            "Quantidade: \n",
            "Material Estocado: \n",
            "Porta Paletes: \n",
            "Data da Entrada: \n",
            "Hora da Saída: \n",
            "Almoxarife: \n",
            "Produção: \n",
            "Máquina: \n",
            "Início de Produção (DD/MM/AAAA): \n",
            "Início de Produção (HH:MM): \n",
            "Final de Produção (DD/MM/AAAA): \n",
            "Hora Finalizada (HH:MM): \n",
            "Quantidade: \n",
            "Ferramenteiro: \n",
            "Área de Montagem: \n",
            "Início de Montagem (DD/MM/AAAA): \n",
            "Início de Montagem (HH:MM): \n",
            "Quantidade: \n",
            "Montador: \n",
            "Inspeção do Produto: \n",
            "Início da Inspeção (DD/MM/AAAA): \n",
            "Início da Inspeção (HH:MM): \n",
            "Quantidade: \n",
            "Prateleira: \n",
            "Posição (Aprovado/Reprovado): \n",
            "Emissão de Certificado: \n",
            "Inspetor: \n",
            "Expedição: \n",
            "Quantidade: \n",
            "Numero do Pedido): \n",
            "Nota Fiscal do Pedido: \n",
            "Saída do Pedido (DD/MM/AAAA): \n",
            "Saída do Pedido (HH:MM): \n",
            "Expeditor: \n",
            "\n",
            "--- SISTEMA DE GERENCIAMENTO DE PROCESSOS ---\n",
            "1. Registrar novo processo\n"
          ]
        },
        {
          "output_type": "error",
          "ename": "KeyboardInterrupt",
          "evalue": "Interrupted by user",
          "traceback": [
            "\u001b[0;31m---------------------------------------------------------------------------\u001b[0m",
            "\u001b[0;31mKeyboardInterrupt\u001b[0m                         Traceback (most recent call last)",
            "\u001b[0;32m<ipython-input-28-35ff76a46211>\u001b[0m in \u001b[0;36m<cell line: 65>\u001b[0;34m()\u001b[0m\n\u001b[1;32m     63\u001b[0m \u001b[0;34m\u001b[0m\u001b[0m\n\u001b[1;32m     64\u001b[0m \u001b[0;31m# Iniciar o sistema\u001b[0m\u001b[0;34m\u001b[0m\u001b[0;34m\u001b[0m\u001b[0m\n\u001b[0;32m---> 65\u001b[0;31m \u001b[0mmenu\u001b[0m\u001b[0;34m(\u001b[0m\u001b[0;34m)\u001b[0m\u001b[0;34m\u001b[0m\u001b[0;34m\u001b[0m\u001b[0m\n\u001b[0m",
            "\u001b[0;32m<ipython-input-28-35ff76a46211>\u001b[0m in \u001b[0;36mmenu\u001b[0;34m()\u001b[0m\n\u001b[1;32m     57\u001b[0m         \u001b[0mprint\u001b[0m\u001b[0;34m(\u001b[0m\u001b[0;34m\"\\n--- SISTEMA DE GERENCIAMENTO DE PROCESSOS ---\"\u001b[0m\u001b[0;34m)\u001b[0m\u001b[0;34m\u001b[0m\u001b[0;34m\u001b[0m\u001b[0m\n\u001b[1;32m     58\u001b[0m         \u001b[0mprint\u001b[0m\u001b[0;34m(\u001b[0m\u001b[0;34m\"1. Registrar novo processo\"\u001b[0m\u001b[0;34m)\u001b[0m\u001b[0;34m\u001b[0m\u001b[0;34m\u001b[0m\u001b[0m\n\u001b[0;32m---> 59\u001b[0;31m         \u001b[0mopcao\u001b[0m \u001b[0;34m=\u001b[0m \u001b[0minput\u001b[0m\u001b[0;34m(\u001b[0m\u001b[0;34m\"Escolha uma opção: \"\u001b[0m\u001b[0;34m)\u001b[0m\u001b[0;34m\u001b[0m\u001b[0;34m\u001b[0m\u001b[0m\n\u001b[0m\u001b[1;32m     60\u001b[0m \u001b[0;34m\u001b[0m\u001b[0m\n\u001b[1;32m     61\u001b[0m         \u001b[0;32mif\u001b[0m \u001b[0mopcao\u001b[0m \u001b[0;34m==\u001b[0m \u001b[0;34m\"1\"\u001b[0m\u001b[0;34m:\u001b[0m\u001b[0;34m\u001b[0m\u001b[0;34m\u001b[0m\u001b[0m\n",
            "\u001b[0;32m/usr/local/lib/python3.10/dist-packages/ipykernel/kernelbase.py\u001b[0m in \u001b[0;36mraw_input\u001b[0;34m(self, prompt)\u001b[0m\n\u001b[1;32m    849\u001b[0m                 \u001b[0;34m\"raw_input was called, but this frontend does not support input requests.\"\u001b[0m\u001b[0;34m\u001b[0m\u001b[0;34m\u001b[0m\u001b[0m\n\u001b[1;32m    850\u001b[0m             )\n\u001b[0;32m--> 851\u001b[0;31m         return self._input_request(str(prompt),\n\u001b[0m\u001b[1;32m    852\u001b[0m             \u001b[0mself\u001b[0m\u001b[0;34m.\u001b[0m\u001b[0m_parent_ident\u001b[0m\u001b[0;34m,\u001b[0m\u001b[0;34m\u001b[0m\u001b[0;34m\u001b[0m\u001b[0m\n\u001b[1;32m    853\u001b[0m             \u001b[0mself\u001b[0m\u001b[0;34m.\u001b[0m\u001b[0m_parent_header\u001b[0m\u001b[0;34m,\u001b[0m\u001b[0;34m\u001b[0m\u001b[0;34m\u001b[0m\u001b[0m\n",
            "\u001b[0;32m/usr/local/lib/python3.10/dist-packages/ipykernel/kernelbase.py\u001b[0m in \u001b[0;36m_input_request\u001b[0;34m(self, prompt, ident, parent, password)\u001b[0m\n\u001b[1;32m    893\u001b[0m             \u001b[0;32mexcept\u001b[0m \u001b[0mKeyboardInterrupt\u001b[0m\u001b[0;34m:\u001b[0m\u001b[0;34m\u001b[0m\u001b[0;34m\u001b[0m\u001b[0m\n\u001b[1;32m    894\u001b[0m                 \u001b[0;31m# re-raise KeyboardInterrupt, to truncate traceback\u001b[0m\u001b[0;34m\u001b[0m\u001b[0;34m\u001b[0m\u001b[0m\n\u001b[0;32m--> 895\u001b[0;31m                 \u001b[0;32mraise\u001b[0m \u001b[0mKeyboardInterrupt\u001b[0m\u001b[0;34m(\u001b[0m\u001b[0;34m\"Interrupted by user\"\u001b[0m\u001b[0;34m)\u001b[0m \u001b[0;32mfrom\u001b[0m \u001b[0;32mNone\u001b[0m\u001b[0;34m\u001b[0m\u001b[0;34m\u001b[0m\u001b[0m\n\u001b[0m\u001b[1;32m    896\u001b[0m             \u001b[0;32mexcept\u001b[0m \u001b[0mException\u001b[0m \u001b[0;32mas\u001b[0m \u001b[0me\u001b[0m\u001b[0;34m:\u001b[0m\u001b[0;34m\u001b[0m\u001b[0;34m\u001b[0m\u001b[0m\n\u001b[1;32m    897\u001b[0m                 \u001b[0mself\u001b[0m\u001b[0;34m.\u001b[0m\u001b[0mlog\u001b[0m\u001b[0;34m.\u001b[0m\u001b[0mwarning\u001b[0m\u001b[0;34m(\u001b[0m\u001b[0;34m\"Invalid Message:\"\u001b[0m\u001b[0;34m,\u001b[0m \u001b[0mexc_info\u001b[0m\u001b[0;34m=\u001b[0m\u001b[0;32mTrue\u001b[0m\u001b[0;34m)\u001b[0m\u001b[0;34m\u001b[0m\u001b[0;34m\u001b[0m\u001b[0m\n",
            "\u001b[0;31mKeyboardInterrupt\u001b[0m: Interrupted by user"
          ]
        }
      ]
    }
  ]
}