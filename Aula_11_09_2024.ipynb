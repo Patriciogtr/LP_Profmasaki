{
  "nbformat": 4,
  "nbformat_minor": 0,
  "metadata": {
    "colab": {
      "provenance": [],
      "authorship_tag": "ABX9TyP+Lc1ognwLLv58yPiq9VWc",
      "include_colab_link": true
    },
    "kernelspec": {
      "name": "python3",
      "display_name": "Python 3"
    },
    "language_info": {
      "name": "python"
    }
  },
  "cells": [
    {
      "cell_type": "markdown",
      "metadata": {
        "id": "view-in-github",
        "colab_type": "text"
      },
      "source": [
        "<a href=\"https://colab.research.google.com/github/Patriciogtr/LP_Profmasaki/blob/main/Aula_11_09_2024.ipynb\" target=\"_parent\"><img src=\"https://colab.research.google.com/assets/colab-badge.svg\" alt=\"Open In Colab\"/></a>"
      ]
    },
    {
      "cell_type": "code",
      "execution_count": 2,
      "metadata": {
        "colab": {
          "base_uri": "https://localhost:8080/"
        },
        "id": "6mGJa0cVUk3Y",
        "outputId": "fad8eb69-a5d9-4a2d-abf7-b87d79c75f6f"
      },
      "outputs": [
        {
          "output_type": "stream",
          "name": "stdout",
          "text": [
            "Digite um numero inteiro:55\n",
            "o número 55 é impar\n"
          ]
        }
      ],
      "source": [
        "#slolicita ao usuário que insira um numero\n",
        "numero = int(input(\"Digite um numero inteiro:\"))\n",
        "\n",
        "#Verifica se o número é par ou ímpar\n",
        "if numero % 2 == 0:\n",
        "  print(f\"o número {numero} é par.\")\n",
        "else:\n",
        "  print(f\"o número {numero} é impar\")"
      ]
    },
    {
      "cell_type": "code",
      "source": [
        "import math\n",
        "\n",
        "# Solicita ao usuário que insira um número\n",
        "numero = float(input(\"Digite um número\"))\n",
        "\n",
        "# verifica se o número é maior ou igual a zero\n",
        "if numero >=0:\n",
        "    raiz_quadrada = math.sqrt(numero)\n",
        "    print(f\"A raiz quadrada de {numero} é {raiz_quadrada:2f}\")\n",
        "else:\n",
        "    Print(\"Não existe raiz real para este número\")"
      ],
      "metadata": {
        "colab": {
          "base_uri": "https://localhost:8080/"
        },
        "id": "epbqVPKsYc14",
        "outputId": "9e443fd1-2c46-41e4-8cee-b26042a6b847"
      },
      "execution_count": 4,
      "outputs": [
        {
          "output_type": "stream",
          "name": "stdout",
          "text": [
            "Digite um número100\n",
            "A raiz quadrada de 100.0 é 10.000000\n"
          ]
        }
      ]
    }
  ]
}