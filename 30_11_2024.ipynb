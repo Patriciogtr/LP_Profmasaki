{
  "nbformat": 4,
  "nbformat_minor": 0,
  "metadata": {
    "colab": {
      "provenance": [],
      "authorship_tag": "ABX9TyOeV8RzsLS06B3LcZynjdfA",
      "include_colab_link": true
    },
    "kernelspec": {
      "name": "python3",
      "display_name": "Python 3"
    },
    "language_info": {
      "name": "python"
    }
  },
  "cells": [
    {
      "cell_type": "markdown",
      "metadata": {
        "id": "view-in-github",
        "colab_type": "text"
      },
      "source": [
        "<a href=\"https://colab.research.google.com/github/Patriciogtr/LP_Profmasaki/blob/main/30_11_2024.ipynb\" target=\"_parent\"><img src=\"https://colab.research.google.com/assets/colab-badge.svg\" alt=\"Open In Colab\"/></a>"
      ]
    },
    {
      "cell_type": "code",
      "source": [
        "import datetime\n",
        "\n",
        "def receber_material():\n",
        "    tipo_material = input(\"Material Recebido: \")\n",
        "    quantidade = int(input(\"Quantidade: \"))\n",
        "    data_recebimento = input(\"Data de recebimento (dd/mm/aaaa): \")\n",
        "    hora_recebimento = input(\"Hora de recebimento (HH:MM): \")\n",
        "    inspetor = input(\"Inspetor Conferente: \")\n",
        "\n",
        "    status_produto = input(\"Digite o status do produto (Aprovado/Reprovado): \").strip().lower()\n",
        "    if status_produto == 'aprovado':\n",
        "        print(\"\\033[92mAprovado! (Status em verde)\\033[0m\")  # Código ANSI para verde\n",
        "        return True  # Continua o programa\n",
        "    elif status_produto == 'reprovado':\n",
        "        print(\"\\033[91mReprovado! (Status em vermelho)\\033[0m\")  # Código ANSI para vermelho\n",
        "        return False  # Encerra o programa\n",
        "    else:\n",
        "        print(\"Status inválido. O programa será encerrado.\")\n",
        "        return False\n",
        "\n",
        "def continuar_lancamento():\n",
        "    while True:\n",
        "        continuar = input(\"Digite 1 para encerrar o programa ou 2 para novo lançamento: \")\n",
        "        if continuar == '1':\n",
        "            print(\"Programa encerrado.\")\n",
        "            break\n",
        "        elif continuar == '2':\n",
        "            if not receber_material():\n",
        "                break\n",
        "        else:\n",
        "            print(\"Opção inválida. Tente novamente.\")\n",
        "\n",
        "if __name__ == '__main__':\n",
        "    print(\"Início do gerenciamento de processos.\")\n",
        "\n",
        "if receber_material():\n",
        "        # Coleta informações adicionais\n",
        "        estoque_materias = input(\"Armazenamento: \")\n",
        "        quantidade = input(\"Quantidade: \")\n",
        "        material = input(\"Tipo de Material: \")\n",
        "        locate_armazenamento = input(\"Local do Armazenamento: \")\n",
        "        data = input(\"Data de Entrada: \")\n",
        "        hora = input(\"Hora de Entrada: \")\n",
        "        nome_operador = input(\"Operador: \")\n",
        "\n",
        "        # Processo 03 (Produção)\n",
        "\n",
        "        Setor = input(\"Setor de Produção: \")\n",
        "        Maquina = input(\"Maquina: \")\n",
        "        Data_de_inicio_de_producao = input(\"Data de inicio de producao: \")\n",
        "        Hora_de_inicio_de_producao = input(\"Hora de inicio de producao: \")\n",
        "        Data_de_finalizacao_de_producao = input(\"Data de finalização de producao: \")\n",
        "        Hora_de_finalizacao_de_producao = input(\"Hora de finalização de producao: \")\n",
        "        Quantidade_de_producao = input(\"Quantidade de produzida: \")\n",
        "        nome_operador = input(\"Operador: \")\n",
        "\n",
        "        # Processo 4 (Inspeção Produto Acabado)\n",
        "\n",
        "        Inspeção = input(\"Inspeção Produto Acabado: \")\n",
        "        Data = input(\"Data da Inspeção: \")\n",
        "        Hora_do_inicio_da_inspecao = input(\"Hora de inicio da Inspeção: \")\n",
        "        Hora_da_finalizacao_da_inspecao = input(\"Hora de finalização da Inspeção: \")\n",
        "        Quantidade = input(\"Quantidade: \")\n",
        "        inspetor = input(\"Inspetor de Qualidade: \")\n",
        "\n",
        "\n",
        "        continuar_lancamento()"
      ],
      "metadata": {
        "colab": {
          "base_uri": "https://localhost:8080/"
        },
        "id": "Szz-xZIiE23j",
        "outputId": "ee036e31-d4d8-4a89-f86e-836aca8a6f8d"
      },
      "execution_count": 16,
      "outputs": [
        {
          "output_type": "stream",
          "name": "stdout",
          "text": [
            "Início do gerenciamento de processos.\n",
            "Material Recebido: 3\n",
            "Quantidade: 3\n",
            "Data de recebimento (dd/mm/aaaa): 3\n",
            "Hora de recebimento (HH:MM): 3\n",
            "Inspetor Conferente: 3\n",
            "Digite o status do produto (Aprovado/Reprovado): Aprovado\n",
            "\u001b[92mAprovado! (Status em verde)\u001b[0m\n",
            "Armazenamento: 3\n",
            "Quantidade: 3\n",
            "Tipo de Material: 3\n",
            "Local do Armazenamento: 3\n",
            "Data de Entrada: 3\n",
            "Hora de Entrada: 3\n",
            "Operador: 3\n",
            "Setor de Produção: 3\n",
            "Maquina: 3\n",
            "Data de inicio de producao: 3\n",
            "Hora de inicio de producao: 3\n",
            "Data de finalização de producao: 3\n",
            "Hora de finalização de producao: 3\n",
            "Quantidade de produzida: 3\n",
            "Operador: 3\n",
            "Inspeção Produto Acabado: 3\n",
            "Data da Inspeção: 3\n",
            "Hora de inicio da Inspeção: 3\n",
            "Hora de finalização da Inspeção: 3\n",
            "Quantidade: 3\n",
            "Inspetor de Qualidade: 3\n",
            "Digite 1 para encerrar o programa ou 2 para novo lançamento: 1\n",
            "Programa encerrado.\n"
          ]
        }
      ]
    }
  ]
}