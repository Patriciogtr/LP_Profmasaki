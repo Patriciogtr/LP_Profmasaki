{
  "nbformat": 4,
  "nbformat_minor": 0,
  "metadata": {
    "colab": {
      "provenance": [],
      "authorship_tag": "ABX9TyPFKKmhH41qB2iz8Xv0Hs5v",
      "include_colab_link": true
    },
    "kernelspec": {
      "name": "python3",
      "display_name": "Python 3"
    },
    "language_info": {
      "name": "python"
    }
  },
  "cells": [
    {
      "cell_type": "markdown",
      "metadata": {
        "id": "view-in-github",
        "colab_type": "text"
      },
      "source": [
        "<a href=\"https://colab.research.google.com/github/Patriciogtr/LP_Profmasaki/blob/main/Revis%C3%A3o_da_Mat%C3%A9ria.ipynb\" target=\"_parent\"><img src=\"https://colab.research.google.com/assets/colab-badge.svg\" alt=\"Open In Colab\"/></a>"
      ]
    },
    {
      "cell_type": "code",
      "execution_count": 1,
      "metadata": {
        "colab": {
          "base_uri": "https://localhost:8080/"
        },
        "id": "DgVGRQs-ViW6",
        "outputId": "308fe46a-5060-4f6f-e3f9-87d6cc9d7bc9"
      },
      "outputs": [
        {
          "output_type": "stream",
          "name": "stdout",
          "text": [
            "Digite o primeiro número: 50\n",
            "Digite o segundo número: 30\n",
            "A soma dos números é: 80.0\n",
            "A média dos números é: 40.0\n"
          ]
        }
      ],
      "source": [
        "# teste com a inteligência artificial\n",
        "# prompt: soma de dois números e depois divide por 2\n",
        "\n",
        "numero1 = float(input(\"Digite o primeiro número: \"))\n",
        "numero2 = float(input(\"Digite o segundo número: \"))\n",
        "\n",
        "soma = numero1 + numero2\n",
        "media = soma / 2\n",
        "\n",
        "print(\"A soma dos números é:\", soma)\n",
        "print(\"A média dos números é:\", media)\n"
      ]
    },
    {
      "cell_type": "code",
      "source": [
        "#Exemplo 01\n",
        "#ENTRADAS DO PROGRAMA\n",
        "a = input (\"Digite o valor de a: \")\n",
        "b = input (\"Digite o valor de b:  \")\n",
        "c = input (\"Digite o valor de c: \")\n",
        "#processamento\n",
        "soma = int(a) + int(b) + int(c)\n",
        "media = soma / 3\n",
        "#SAIDA DO PROGRAMA\n",
        "print(\"A soma dos números é:\", soma)\n",
        "print (\"A média dos números é:\", media)"
      ],
      "metadata": {
        "colab": {
          "base_uri": "https://localhost:8080/"
        },
        "id": "a-S7BbL3asrk",
        "outputId": "d0a1e2b1-a55a-4263-a2b1-74dc21a00837"
      },
      "execution_count": 7,
      "outputs": [
        {
          "output_type": "stream",
          "name": "stdout",
          "text": [
            "Digite o valor de a: 10\n",
            "Digite o valor de b:  10\n",
            "Digite o valor de c: 10\n",
            "A soma dos números é: 30\n",
            "A média dos números é: 10.0\n"
          ]
        }
      ]
    },
    {
      "cell_type": "markdown",
      "source": [],
      "metadata": {
        "id": "FBQpbhPbt2YT"
      }
    },
    {
      "cell_type": "code",
      "source": [
        "#Exemplo 01\n",
        "\n",
        "#ENTRADAS DO PROGRAMA\n",
        "a = float(input(\"Nota P1: \"))\n",
        "b = float(input(\"Nota P2: \"))\n",
        "\n",
        "#processamento\n",
        "soma = a + b\n",
        "media = soma / 2\n",
        "\n",
        "#SAIDA DO PROGRAMA\n",
        "print(\"Soma:\", soma)\n",
        "print (\"Média Final:\", media)\n",
        "\n"
      ],
      "metadata": {
        "colab": {
          "base_uri": "https://localhost:8080/"
        },
        "id": "R7nTsttzcyV0",
        "outputId": "5b76e3ca-a26e-4ec2-e71f-d35616caa04b"
      },
      "execution_count": 48,
      "outputs": [
        {
          "output_type": "stream",
          "name": "stdout",
          "text": [
            "Nota P1: 7.5\n",
            "Nota P2: 3.8\n",
            "Soma: 11.3\n",
            "Média Final: 5.65\n"
          ]
        }
      ]
    },
    {
      "cell_type": "code",
      "source": [],
      "metadata": {
        "id": "98ViClm9qVcP"
      },
      "execution_count": null,
      "outputs": []
    }
  ]
}