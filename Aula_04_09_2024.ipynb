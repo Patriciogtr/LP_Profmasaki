{
  "nbformat": 4,
  "nbformat_minor": 0,
  "metadata": {
    "colab": {
      "provenance": [],
      "authorship_tag": "ABX9TyNI4vbEqtfcJTbYF4XDxSTL",
      "include_colab_link": true
    },
    "kernelspec": {
      "name": "python3",
      "display_name": "Python 3"
    },
    "language_info": {
      "name": "python"
    }
  },
  "cells": [
    {
      "cell_type": "markdown",
      "metadata": {
        "id": "view-in-github",
        "colab_type": "text"
      },
      "source": [
        "<a href=\"https://colab.research.google.com/github/Patriciogtr/LP_Profmasaki/blob/main/Aula_04_09_2024.ipynb\" target=\"_parent\"><img src=\"https://colab.research.google.com/assets/colab-badge.svg\" alt=\"Open In Colab\"/></a>"
      ]
    },
    {
      "cell_type": "markdown",
      "source": [
        "#Ex.04 - Aula LP02\n",
        "*texto em itálico*"
      ],
      "metadata": {
        "id": "3OjYVumRLU9n"
      }
    },
    {
      "cell_type": "code",
      "execution_count": null,
      "metadata": {
        "colab": {
          "base_uri": "https://localhost:8080/"
        },
        "id": "B6ICagE6KfYZ",
        "outputId": "ea6a398f-81ed-40d0-fd27-8f12b2aa1580"
      },
      "outputs": [
        {
          "output_type": "stream",
          "name": "stdout",
          "text": [
            "digite valor em polegadas2\n",
            "50.8\n"
          ]
        }
      ],
      "source": [
        "#hastg é comentário na parte onde eu programo\n",
        "p = float(input(\"digite valor em polegadas\"))\n",
        "mm = p * 25.4\n",
        "print(mm)\n"
      ]
    },
    {
      "cell_type": "markdown",
      "source": [
        "#Ex. 05 - Aula LP\n"
      ],
      "metadata": {
        "id": "K8AU3C6GR1WD"
      }
    },
    {
      "cell_type": "code",
      "source": [
        "#Anotações da Aula:From - Math - Import - Pi\n",
        "#Volume de uma esfera V=(4/3)*Pi*R**3)\n",
        "from math import pi\n",
        "print(\"Programa para calcular Volume da Esfera\")\n",
        "#Vou solicitar inicialmnte o raio\n",
        "raio = float(input(\"Digite raio: \"))\n",
        "v= (4/3) * pi * (raio**3)\n",
        "print(v)"
      ],
      "metadata": {
        "colab": {
          "base_uri": "https://localhost:8080/"
        },
        "id": "04RyVVxcSKLn",
        "outputId": "4d254dc6-d437-43a0-a05b-aa955e77f3fc"
      },
      "execution_count": null,
      "outputs": [
        {
          "output_type": "stream",
          "name": "stdout",
          "text": [
            "Programa para calcular Volume da Esfera\n",
            "Digite raio: 2.5\n",
            "65.44984694978736\n"
          ]
        }
      ]
    },
    {
      "cell_type": "markdown",
      "source": [
        "#Ex. 06"
      ],
      "metadata": {
        "id": "CftJrp9MY1pW"
      }
    },
    {
      "cell_type": "code",
      "source": [
        "import math\n",
        "Print(\"Programa para calcular Volume da Esfera\")\n",
        "#Vou solicitar inicialmnte o ângulo em graus\n",
        "graus = float(input(\"Digite o Ângulo em graus: \"))\n",
        "#Vou converter o ângulo para radianos usando a fórmula r = g * (pi/180)\n",
        "radianos = graus * pi * (math*pi/180)\n",
        "print(v)"
      ],
      "metadata": {
        "id": "rkAsr_fxY-VP",
        "outputId": "b288b9fb-fa1b-442f-affe-a66849e9ad84",
        "colab": {
          "base_uri": "https://localhost:8080/",
          "height": 211
        }
      },
      "execution_count": 1,
      "outputs": [
        {
          "output_type": "error",
          "ename": "NameError",
          "evalue": "name 'Print' is not defined",
          "traceback": [
            "\u001b[0;31m---------------------------------------------------------------------------\u001b[0m",
            "\u001b[0;31mNameError\u001b[0m                                 Traceback (most recent call last)",
            "\u001b[0;32m<ipython-input-1-74c8fd3f8024>\u001b[0m in \u001b[0;36m<cell line: 2>\u001b[0;34m()\u001b[0m\n\u001b[1;32m      1\u001b[0m \u001b[0;32mimport\u001b[0m \u001b[0mmath\u001b[0m\u001b[0;34m\u001b[0m\u001b[0;34m\u001b[0m\u001b[0m\n\u001b[0;32m----> 2\u001b[0;31m \u001b[0mPrint\u001b[0m\u001b[0;34m(\u001b[0m\u001b[0;34m\"Programa para calcular Volume da Esfera\"\u001b[0m\u001b[0;34m)\u001b[0m\u001b[0;34m\u001b[0m\u001b[0;34m\u001b[0m\u001b[0m\n\u001b[0m\u001b[1;32m      3\u001b[0m \u001b[0;31m#Vou solicitar inicialmnte o ângulo em graus\u001b[0m\u001b[0;34m\u001b[0m\u001b[0;34m\u001b[0m\u001b[0m\n\u001b[1;32m      4\u001b[0m \u001b[0mgraus\u001b[0m \u001b[0;34m=\u001b[0m \u001b[0mfloat\u001b[0m\u001b[0;34m(\u001b[0m\u001b[0minput\u001b[0m\u001b[0;34m(\u001b[0m\u001b[0;34m\"Digite o Ângulo em graus: \"\u001b[0m\u001b[0;34m)\u001b[0m\u001b[0;34m)\u001b[0m\u001b[0;34m\u001b[0m\u001b[0;34m\u001b[0m\u001b[0m\n\u001b[1;32m      5\u001b[0m \u001b[0;31m#Vou converter o ângulo para radianos usando a fórmula r = g * (pi/180)\u001b[0m\u001b[0;34m\u001b[0m\u001b[0;34m\u001b[0m\u001b[0m\n",
            "\u001b[0;31mNameError\u001b[0m: name 'Print' is not defined"
          ]
        }
      ]
    }
  ]
}