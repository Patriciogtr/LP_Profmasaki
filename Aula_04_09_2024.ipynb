{
  "nbformat": 4,
  "nbformat_minor": 0,
  "metadata": {
    "colab": {
      "provenance": [],
      "authorship_tag": "ABX9TyOHn7///CxxTECc+Ukp5C+x",
      "include_colab_link": true
    },
    "kernelspec": {
      "name": "python3",
      "display_name": "Python 3"
    },
    "language_info": {
      "name": "python"
    }
  },
  "cells": [
    {
      "cell_type": "markdown",
      "metadata": {
        "id": "view-in-github",
        "colab_type": "text"
      },
      "source": [
        "<a href=\"https://colab.research.google.com/github/Patriciogtr/LP_Profmasaki/blob/main/Aula_04_09_2024.ipynb\" target=\"_parent\"><img src=\"https://colab.research.google.com/assets/colab-badge.svg\" alt=\"Open In Colab\"/></a>"
      ]
    },
    {
      "cell_type": "markdown",
      "source": [
        "#Ex.05 - Aula LP02\n"
      ],
      "metadata": {
        "id": "3OjYVumRLU9n"
      }
    },
    {
      "cell_type": "code",
      "execution_count": 2,
      "metadata": {
        "colab": {
          "base_uri": "https://localhost:8080/"
        },
        "id": "B6ICagE6KfYZ",
        "outputId": "7c2a922b-23de-4efb-ad24-1b380e9f7477"
      },
      "outputs": [
        {
          "output_type": "stream",
          "name": "stdout",
          "text": [
            "digite valor em polegadas2\n",
            "50.8\n"
          ]
        }
      ],
      "source": [
        "#hastg é comentário na parte onde eu programo\n",
        "p = float(input(\"digite valor em polegadas\"))\n",
        "mm = p * 25.4\n",
        "print(mm)"
      ]
    }
  ]
}